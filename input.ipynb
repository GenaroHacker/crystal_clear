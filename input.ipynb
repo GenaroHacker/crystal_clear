{
  "nbformat": 4,
  "nbformat_minor": 0,
  "metadata": {
    "colab": {
      "provenance": [],
      "authorship_tag": "ABX9TyMEXUKD+ynuEKfbbOAMBeHR",
      "include_colab_link": true
    },
    "kernelspec": {
      "name": "python3",
      "display_name": "Python 3"
    },
    "language_info": {
      "name": "python"
    }
  },
  "cells": [
    {
      "cell_type": "markdown",
      "metadata": {
        "id": "view-in-github",
        "colab_type": "text"
      },
      "source": [
        "<a href=\"https://colab.research.google.com/github/GenaroHacker/crystal_clear/blob/main/input.ipynb\" target=\"_parent\"><img src=\"https://colab.research.google.com/assets/colab-badge.svg\" alt=\"Open In Colab\"/></a>"
      ]
    },
    {
      "cell_type": "code",
      "source": [
        "!git clone https://github.com/GenaroHacker/crystal_clear.git\n",
        "%run crystal_clear/sql.ipynb"
      ],
      "metadata": {
        "id": "VqrMwOD74xWo"
      },
      "execution_count": null,
      "outputs": []
    },
    {
      "cell_type": "code",
      "source": [
        "#@title Functions\n",
        "def show_paradigms():\n",
        "  from pprint import pprint\n",
        "  pprint(TableNamesToDict(\"BaseParadigms\"))\n",
        "\n",
        "def start_insert_mode(PARADIGM_ID):\n",
        "  while True:\n",
        "    print(\"Type a phrase to incorporate into the paradigm [\" + TableNamesToDict(\"BaseParadigms\")[PARADIGM_ID] + '] or type \"End\" to exit.')\n",
        "    print(\"==========>\")\n",
        "    phrase = input()\n",
        "    if phrase.lower() == \"end\":\n",
        "      \"Exiting...\"\n",
        "      INPUT_MODULE_MAIN_FUNC()\n",
        "      break\n",
        "    else:\n",
        "      InsertRecord(\"BaseParadigms\",\"INSERT INTO \" + TableNamesToDict(\"BaseParadigms\")[PARADIGM_ID] + \" VALUES (NULL,'\" + phrase + \"')\")\n",
        "\n",
        "def create_new_paradigm(name):\n",
        "  #Create one Table\n",
        "  try:\n",
        "      columns = \"\"\"\n",
        "              ID INTEGER PRIMARY KEY AUTOINCREMENT,\n",
        "              PHRASE VARCHAR(140)\"\"\"\n",
        "      table_name = name.capitalize()\n",
        "      CreateTable(\"BaseParadigms\",table_name,columns)\n",
        "      print(\"Table created successfully!\\n\")\n",
        "  except sqlite3.OperationalError:\n",
        "      print(\"Table already exists!!!!\\n\")"
      ],
      "metadata": {
        "id": "lU0mCrcgO9IZ"
      },
      "execution_count": null,
      "outputs": []
    },
    {
      "cell_type": "code",
      "source": [
        "#@title Main execution\n",
        "def INPUT_MODULE_MAIN_FUNC():\n",
        "  \n",
        "  print()\n",
        "  print(\"Select the ID of the paradigm you want to add phrases to.\")\n",
        "  print(\"Type 0 to add a new paradigm.\")\n",
        "  print('Type \"End\" to exit.')\n",
        "  print()\n",
        "  print(\"Available paradigms:\")\n",
        "  show_paradigms()\n",
        "  print()\n",
        "  print(\"==========>\")\n",
        "  selected_paradigm_id = input(\"ID: \")\n",
        "\n",
        "  if selected_paradigm_id.lower() == \"end\":\n",
        "    return print(\"Exiting the input module\")\n",
        "\n",
        "  try:\n",
        "    selected_paradigm_id = int(selected_paradigm_id)\n",
        "  except ValueError:\n",
        "    print()\n",
        "    print(\"Only numbers are allowed.\")\n",
        "    INPUT_MODULE_MAIN_FUNC()\n",
        "\n",
        "  \n",
        "  if selected_paradigm_id == 0:\n",
        "    print()\n",
        "    print(\"Write the name for the new paradigm.\")\n",
        "    print(\"==========>\")\n",
        "    create_new_paradigm(input())\n",
        "    INPUT_MODULE_MAIN_FUNC()\n",
        "\n",
        "  elif selected_paradigm_id in ReadAllTableNames(\"BaseParadigms\").keys():\n",
        "    start_insert_mode(selected_paradigm_id)\n",
        "\n",
        "  else:\n",
        "    print(\"Invalid paradigm.\")\n",
        "    INPUT_MODULE_MAIN_FUNC()\n",
        "\n",
        "INPUT_MODULE_MAIN_FUNC()"
      ],
      "metadata": {
        "colab": {
          "base_uri": "https://localhost:8080/"
        },
        "id": "iKFu03JhOe5G",
        "outputId": "c2be9da4-2950-452b-b6c2-fce9107f1783"
      },
      "execution_count": null,
      "outputs": [
        {
          "output_type": "stream",
          "name": "stdout",
          "text": [
            "\n",
            "Select the ID of the paradigm you want to add phrases to.\n",
            "Type 0 to add a new paradigm.\n",
            "Type \"End\" to exit.\n",
            "\n",
            "Available paradigms:\n",
            "{1: 'Directivo', 2: 'Coach', 3: 'Gracioso'}\n",
            "\n",
            "==========>\n",
            "ID: 3\n",
            "Type a phrase to incorporate into the paradigm [Gracioso] or type \"End\" to exit.\n",
            "==========>\n",
            "esto es gracioso\n",
            "Type a phrase to incorporate into the paradigm [Gracioso] or type \"End\" to exit.\n",
            "==========>\n",
            "esto tambien\n",
            "Type a phrase to incorporate into the paradigm [Gracioso] or type \"End\" to exit.\n",
            "==========>\n",
            "end\n",
            "\n",
            "Select the ID of the paradigm you want to add phrases to.\n",
            "Type 0 to add a new paradigm.\n",
            "Type \"End\" to exit.\n",
            "\n",
            "Available paradigms:\n",
            "{1: 'Directivo', 2: 'Coach', 3: 'Gracioso'}\n",
            "\n",
            "==========>\n",
            "ID: end\n",
            "Exiting the input module\n"
          ]
        }
      ]
    }
  ]
}