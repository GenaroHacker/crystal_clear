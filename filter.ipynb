{
  "nbformat": 4,
  "nbformat_minor": 0,
  "metadata": {
    "colab": {
      "provenance": [],
      "authorship_tag": "ABX9TyMR4kBFKX5cR8/xX1uAgoO8",
      "include_colab_link": true
    },
    "kernelspec": {
      "name": "python3",
      "display_name": "Python 3"
    },
    "language_info": {
      "name": "python"
    }
  },
  "cells": [
    {
      "cell_type": "markdown",
      "metadata": {
        "id": "view-in-github",
        "colab_type": "text"
      },
      "source": [
        "<a href=\"https://colab.research.google.com/github/GenaroHacker/crystal_clear/blob/main/filter.ipynb\" target=\"_parent\"><img src=\"https://colab.research.google.com/assets/colab-badge.svg\" alt=\"Open In Colab\"/></a>"
      ]
    },
    {
      "cell_type": "code",
      "source": [
        "!git clone https://github.com/GenaroHacker/crystal_clear.git\n",
        "%run crystal_clear/sql.ipynb"
      ],
      "metadata": {
        "id": "ftS-PCg64mkm",
        "outputId": "2194eb68-626e-4e81-a7d2-7bb2340c7cbd",
        "colab": {
          "base_uri": "https://localhost:8080/"
        }
      },
      "execution_count": 14,
      "outputs": [
        {
          "output_type": "stream",
          "name": "stdout",
          "text": [
            "fatal: destination path 'crystal_clear' already exists and is not an empty directory.\n"
          ]
        }
      ]
    },
    {
      "cell_type": "code",
      "source": [
        "#@title Finctions\n",
        "\n",
        "def delete_paradigm(paradigm_id):\n",
        "  list_of_tuples = ReadRecords(\"BaseParadigms\",\"TABLE_PARADIGMS\")\n",
        "  tablename_todelete = \"\"\n",
        "  for paradigm in list_of_tuples:\n",
        "    if paradigm[0] == paradigm_id:\n",
        "      tablename_todelete = paradigm[1]\n",
        "  RunCommand(\"BaseParadigms\",\"DROP TABLE \" + tablename_todelete)\n",
        "\n",
        "def sort_paradigm(paradigm_id):\n",
        "  list_of_tuples = ReadRecords(\"BaseParadigms\",\"TABLE_PARADIGMS\")\n",
        "  tablename_tosort = \"\"\n",
        "  for paradigm in list_of_tuples:\n",
        "    if paradigm[0] == paradigm_id:\n",
        "      tablename_tosort = paradigm[1]\n",
        "  #Read all records\n",
        "  list_of_tuples = ReadRecords(\"BaseParadigms\",tablename_tosort)\n",
        "  prdgms_to_sort = []\n",
        "  for record in list_of_tuples:\n",
        "    prdgms_to_sort.append(record[1])\n",
        "  def manual_sort(items_to_sort):\n",
        "    import functools\n",
        "    def ask_user_cmp(item1, item2):\n",
        "        while True:\n",
        "            print(f\"[{item1}](1) or [{item2}](2) ?\")\n",
        "            cmp = input(\"--> \")\n",
        "            if cmp == \"1\":\n",
        "                return 1\n",
        "            if cmp == \"2\":\n",
        "                return -1\n",
        "            print(\"1 or 2, please!\")\n",
        "    ask_user_key = functools.cmp_to_key(ask_user_cmp)\n",
        "    items_to_sort.sort(key=ask_user_key, reverse=True)\n",
        "    return items_to_sort\n",
        "  prdgms_sorted = manual_sort(prdgms_to_sort)\n",
        "  RunCommand(\"BaseParadigms\",\"DELETE FROM \" + tablename_tosort)\n",
        "  RunCommand(\"BaseParadigms\",\"DELETE FROM sqlite_sequence WHERE name='\" + tablename_tosort + \"'\")\n",
        "  for phrase in prdgms_sorted:\n",
        "    InsertRecord(\"BaseParadigms\",\"INSERT INTO \" + tablename_tosort + \" VALUES (NULL,'\" + phrase + \"')\")\n",
        "\n",
        "def update_phrase(paradigm_id, phrase_id, new_phrase):\n",
        "  list_of_tuples = ReadRecords(\"BaseParadigms\",\"TABLE_PARADIGMS\")\n",
        "  tablename = \"\"\n",
        "  for paradigm in list_of_tuples:\n",
        "    if paradigm[0] == paradigm_id:\n",
        "      tablename = paradigm[1]\n",
        "  UpdateRecord(\"BaseParadigms\",\"UPDATE \" + tablename + \" SET PHRASE='\" + new_phrase + \"' WHERE ID=\" + str(phrase_id))\n",
        "\n",
        "def delete_phrase(paradigm_id,phrase_id):\n",
        "  list_of_tuples = ReadRecords(\"BaseParadigms\",\"TABLE_PARADIGMS\")\n",
        "  tablename = \"\"\n",
        "  for paradigm in list_of_tuples:\n",
        "    if paradigm[0] == paradigm_id:\n",
        "      tablename = paradigm[1]\n",
        "  last_record_id = ReadLastRecord(\"BaseParadigms\",tablename)[0]\n",
        "  RemoveRecord(\"BaseParadigms\",\"DELETE FROM \" + tablename + \" WHERE ID=\" + str(phrase_id))\n",
        "  for id in range(phrase_id + 1,last_record_id + 1):\n",
        "    UpdateRecord(\"BaseParadigms\",\"UPDATE \" + tablename + \" SET ID='\" + str(id-1) + \"' WHERE ID=\" + str(id))\n"
      ],
      "metadata": {
        "id": "irW4Ffr8ydQb"
      },
      "execution_count": 15,
      "outputs": []
    },
    {
      "cell_type": "code",
      "source": [
        "#delete_paradigm(2)\n",
        "#sort_paradigm(3)\n",
        "#update_phrase(3,1,\"lol\")\n",
        "#delete_phrase(1,1)"
      ],
      "metadata": {
        "id": "LLlt6LROr8KE"
      },
      "execution_count": 16,
      "outputs": []
    },
    {
      "cell_type": "code",
      "source": [
        "#@title Execution\n",
        "\n",
        "\n",
        "print(\"Select the paradigm you want to filter or type 0 to select a random paradigm\")\n",
        "list_of_paradigms = ReadRecords(\"BaseParadigms\",\"TABLE_PARADIGMS\")\n",
        "print_table(list_of_paradigms)\n",
        "\n",
        "ids = []\n",
        "for i in list_of_paradigms:\n",
        "  ids.append(i[0])\n",
        "\n",
        "\n",
        "user_choice = \"\"\n",
        "while type(user_choice) != int:\n",
        "  try:\n",
        "    user_choice = int(input())\n",
        "    if user_choice not in ids and user_choice != 0:\n",
        "      user_choice = \"\"\n",
        "      int(\"I just hope that no ValueError occurs\")\n",
        "  except ValueError:\n",
        "    print(\"Only IDs available in the table or 0 are allowed\")\n",
        "if user_choice == 0:\n",
        "  from random import choice\n",
        "  user_choice = choice(ids)\n",
        "  \n",
        "selected_paradigm_id = user_choice\n",
        "tablename = list_of_paradigms[selected_paradigm_id-1][1]\n",
        "print()\n",
        "print(tablename)\n",
        "list_of_phrases = ReadRecords(\"BaseParadigms\",tablename)\n",
        "print_table(list_of_phrases)\n",
        "\n",
        "print()\n",
        "print(\"What do you want to do with [\" + tablename + \"]?\")\n",
        "\n",
        "#delete_paradigm(2)\n",
        "#sort_paradigm(3)\n",
        "#update_phrase(3,1,\"lol\")\n",
        "#delete_phrase(1,1)\n",
        "\n",
        "print(\" 1 --> sort paradigm\")\n",
        "print(\" 2 --> update phrase\")\n",
        "print(\" 3 --> delete phrase\")\n",
        "print(\" 4 --> delete paradigm\")\n",
        "selected_action = input()\n",
        "while selected_action not in (\"1\", \"2\", \"3\", \"4\"):\n",
        "  print(\"Option not available.\")\n",
        "  selected_action = input()\n",
        "\n",
        "if selected_action == \"1\":\n",
        "  #sort_paradigm(3)\n",
        "  pass\n",
        "\n",
        "elif selected_action == \"2\":\n",
        "  #update_phrase(3,1,\"lol\")\n",
        "  pass\n",
        "\n",
        "elif selected_action == \"3\":\n",
        "  #delete_phrase(1,1)\n",
        "  pass\n",
        "\n",
        "elif selected_action == \"4\":\n",
        "  #delete_paradigm(2)\n",
        "  pass"
      ],
      "metadata": {
        "id": "ozea5kr_zWhu",
        "colab": {
          "base_uri": "https://localhost:8080/"
        },
        "outputId": "4440028a-3c06-478a-e293-6447452b33ed"
      },
      "execution_count": 22,
      "outputs": [
        {
          "name": "stdout",
          "output_type": "stream",
          "text": [
            "Select the paradigm you want to filter or type 0 to select a random paradigm\n",
            "1 | Directivo | 3 | 0 | \n",
            "2 | Coach     | 3 | 0 | \n",
            "3 | Gracioso  | 3 | 0 | \n",
            "d\n",
            "Only IDs available in the table or 0 are allowed\n",
            "2\n",
            "\n",
            "Coach\n",
            "1 | que tenes en mente?                  | \n",
            "2 | cual es el mayor reto que enfrentas? | \n",
            "3 | cual es el costo de decir que si?    | \n",
            "\n",
            "What do you want to do with [Coach]?\n",
            " 1 --> sort paradigm\n",
            " 2 --> update phrase\n",
            " 3 --> delete phrase\n",
            " 4 --> delete paradigm\n",
            "v\n",
            "Option not available.\n",
            "d\n",
            "Option not available.\n",
            "g\n",
            "Option not available.\n",
            "th\n",
            "Option not available.\n",
            "1\n"
          ]
        }
      ]
    }
  ]
}