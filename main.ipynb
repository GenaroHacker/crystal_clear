{
  "nbformat": 4,
  "nbformat_minor": 0,
  "metadata": {
    "colab": {
      "provenance": [],
      "authorship_tag": "ABX9TyM0AyJtbyFDfg4Yuo7z7nix",
      "include_colab_link": true
    },
    "kernelspec": {
      "name": "python3",
      "display_name": "Python 3"
    },
    "language_info": {
      "name": "python"
    }
  },
  "cells": [
    {
      "cell_type": "markdown",
      "metadata": {
        "id": "view-in-github",
        "colab_type": "text"
      },
      "source": [
        "<a href=\"https://colab.research.google.com/github/GenaroHacker/crystal_clear/blob/main/main.ipynb\" target=\"_parent\"><img src=\"https://colab.research.google.com/assets/colab-badge.svg\" alt=\"Open In Colab\"/></a>"
      ]
    },
    {
      "cell_type": "code",
      "source": [
        "!git clone https://github.com/GenaroHacker/crystal_clear.git\n",
        "%run crystal_clear/sql.ipynb"
      ],
      "metadata": {
        "id": "5ZecG2Uz3pZX",
        "outputId": "7c32f867-e137-4252-b052-361aeb48c4cc",
        "colab": {
          "base_uri": "https://localhost:8080/"
        }
      },
      "execution_count": 1,
      "outputs": [
        {
          "output_type": "stream",
          "name": "stdout",
          "text": [
            "Cloning into 'crystal_clear'...\n",
            "remote: Enumerating objects: 55, done.\u001b[K\n",
            "remote: Counting objects: 100% (55/55), done.\u001b[K\n",
            "remote: Compressing objects: 100% (52/52), done.\u001b[K\n",
            "remote: Total 55 (delta 26), reused 11 (delta 1), pack-reused 0\u001b[K\n",
            "Unpacking objects: 100% (55/55), done.\n",
            "Table created successfully!\n",
            "\n",
            "Record inserted successfully!\n",
            "\n",
            "Records inserted successfully!\n",
            "\n",
            "The list of tuples with all the records is:\n",
            "[(1, 'BALL', 10, 'SPORT'), (2, 'GOLF STICK', 25, 'SPORT'), (3, 'GLASS', 20, 'CERAMIC'), (4, 'T-SHIRT', 5, 'CLOTHES')]\n",
            "\n",
            "The last record is:\n",
            "(4, 'T-SHIRT', 5, 'CLOTHES')\n",
            "\n",
            "The record with ID=3 has been updated successfully!\n",
            "\n",
            "The record with ID=4 has been removed successfully!\n",
            "\n",
            "\n",
            "The table has been deleted successfully!\n",
            "\n",
            "The list of table names is:\n",
            "{1: 'TableProducts'}\n",
            "\n",
            "The amount of entries in the table is:\n",
            "3\n"
          ]
        }
      ]
    },
    {
      "cell_type": "code",
      "source": [
        "#Create table paradigms\n",
        "try:\n",
        "    columns = \"\"\"\n",
        "            ID INTEGER PRIMARY KEY AUTOINCREMENT,\n",
        "            PARADIGM VARCHAR(50),\n",
        "            ENTRYCOUNT INTEGER,\n",
        "            MAXSCORE VARCHAR(20)\"\"\"\n",
        "    CreateTable(\"BaseParadigms\",\"TABLE_PARADIGMS\",columns)\n",
        "    print(\"Table created successfully!\\n\")\n",
        "except sqlite3.OperationalError:\n",
        "    print(\"Table already exists!!!!\\n\")\n",
        "\n",
        "def ReadAllTableNames(DATABASE_NAME):\n",
        "    myConnection=sqlite3.connect(DATABASE_NAME)\n",
        "    myCursor=myConnection.cursor()\n",
        "    myCursor.execute(\"SELECT name FROM sqlite_master WHERE type='table';\")\n",
        "    records=myCursor.fetchall()\n",
        "    myConnection.close()\n",
        "    records_copy = records\n",
        "    for table in records_copy:\n",
        "      if table[0] == \"TABLE_PARADIGMS\":\n",
        "        records.remove(table)\n",
        "    records.remove(('sqlite_sequence',))\n",
        "    records_copy = records\n",
        "    records = []\n",
        "    for i in records_copy:\n",
        "      records.append(i[0])\n",
        "\n",
        "    return records\n",
        "\n",
        "def GetEntryAmount(DATABASE_NAME, TABLE_NAME):\n",
        "    myConnection=sqlite3.connect(DATABASE_NAME)\n",
        "    myCursor=myConnection.cursor()\n",
        "    myCursor.execute(\"SELECT COUNT(*) FROM \" + TABLE_NAME)\n",
        "    records=myCursor.fetchall()\n",
        "    myConnection.close()\n",
        "    return records[0][0]\n",
        "\n",
        "#Insert tables into tableparadigms\n",
        "necesary_tables = ReadAllTableNames(\"BaseParadigms\")\n",
        "tables_we_have = ReadRecords(\"BaseParadigms\", \"TABLE_PARADIGMS\")\n",
        "tables_we_have = []\n",
        "for table in ReadRecords(\"BaseParadigms\", \"TABLE_PARADIGMS\"):\n",
        "  tables_we_have.append(table[1])\n",
        "for table in necesary_tables:\n",
        "  if table not in tables_we_have:\n",
        "    InsertRecord(\"BaseParadigms\",\"INSERT INTO TABLE_PARADIGMS VALUES (NULL,'\" + table + \"',\" + str(GetEntryAmount(\"BaseParadigms\", table)) + \",0)\")\n",
        "    print(\"Record inserted successfully!\\n\")"
      ],
      "metadata": {
        "colab": {
          "base_uri": "https://localhost:8080/"
        },
        "id": "7C4fpoohGBvX",
        "outputId": "465ce1cf-fd78-4f39-d6ea-e25aed78697d"
      },
      "execution_count": 2,
      "outputs": [
        {
          "output_type": "stream",
          "name": "stdout",
          "text": [
            "Table created successfully!\n",
            "\n"
          ]
        }
      ]
    }
  ]
}