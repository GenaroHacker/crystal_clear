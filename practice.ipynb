{
  "nbformat": 4,
  "nbformat_minor": 0,
  "metadata": {
    "colab": {
      "provenance": [],
      "authorship_tag": "ABX9TyOfrBN1mOqjs+EJ+Qo//jyS",
      "include_colab_link": true
    },
    "kernelspec": {
      "name": "python3",
      "display_name": "Python 3"
    },
    "language_info": {
      "name": "python"
    }
  },
  "cells": [
    {
      "cell_type": "markdown",
      "metadata": {
        "id": "view-in-github",
        "colab_type": "text"
      },
      "source": [
        "<a href=\"https://colab.research.google.com/github/GenaroHacker/crystal_clear/blob/main/practice.ipynb\" target=\"_parent\"><img src=\"https://colab.research.google.com/assets/colab-badge.svg\" alt=\"Open In Colab\"/></a>"
      ]
    },
    {
      "cell_type": "code",
      "source": [
        "!git clone https://github.com/GenaroHacker/crystal_clear.git\n",
        "%run crystal_clear/sql.ipynb"
      ],
      "metadata": {
        "id": "DpMRjET05S7t"
      },
      "execution_count": null,
      "outputs": []
    },
    {
      "cell_type": "code",
      "source": [
        "def do_a_prectice_row(paradigm,level):\n",
        "  item_amount = int(( 0.5 * level ) + 5)\n",
        "  lecture_time_per_char = (-0.002 * level) + 0.075\n",
        "  max_writing_time_per_char = (-0.02 * level) + 0.4\n",
        "\n",
        "  all_paradigm_phrases = []\n",
        "  for tuple in ReadRecords(\"BaseParadigms\",paradigm):\n",
        "    all_paradigm_phrases.append(tuple[1])\n",
        "\n",
        "  from random import choice\n",
        "  selected_items = []\n",
        "  for i in range(item_amount):\n",
        "    selected_items.append(choice(all_paradigm_phrases))\n",
        "\n",
        "  from time import sleep\n",
        "  sleep(1)\n",
        "  print(\"The level is \" + str(level) + \".\")\n",
        "  sleep(0.5)\n",
        "  print(\"The practice row starts in\")\n",
        "  sleep(1)\n",
        "  print(\"4\")\n",
        "  sleep(1)\n",
        "  print(\"3\")\n",
        "  sleep(1)\n",
        "  print(\"2\")\n",
        "  sleep(1)\n",
        "  print(\"1\")\n",
        "  sleep(1)\n",
        "  #Show items to the user\n",
        "  for phrase in selected_items:\n",
        "    phrase_lecture_time = ( len(phrase) * lecture_time_per_char )\n",
        "    print(phrase)\n",
        "    sleep(phrase_lecture_time)\n",
        "\n",
        "\n",
        "\n",
        "  #User writes the items\n",
        "  from datetime import datetime\n",
        "  approved = True\n",
        "  before = datetime.now()\n",
        "\n",
        "  for wanted_phrase in selected_items:\n",
        "    real_phrase = input()\n",
        "    if real_phrase.lower() == wanted_phrase.lower():\n",
        "      print(\"✓\")\n",
        "    else:\n",
        "      print(\"✘\")\n",
        "      approved = False\n",
        "      break\n",
        "  print(approved)\n",
        "  after = datetime.now()\n",
        "  user_delay = (after - before).total_seconds()\n",
        "\n",
        "  total_characters = 0\n",
        "  for phrase in selected_items:\n",
        "    total_characters += len(phrase)\n",
        "  max_writing_time_total = max_writing_time_per_char * total_characters\n",
        "  \n",
        "\n",
        "  #Delay in proportion to the maximum time to pass\n",
        "  proportional_time =  int((max_writing_time_total / user_delay) * 100 )\n",
        "  print( \"You are at \" + str(proportional_time) + \"% of the maximum\" )\n",
        "  \n",
        "\n",
        "\n",
        "\n",
        "\n",
        "\n"
      ],
      "metadata": {
        "id": "p1Fr-iUWnEgm"
      },
      "execution_count": null,
      "outputs": []
    },
    {
      "cell_type": "code",
      "source": [
        "def PRACTICE_MODULE_MAIN_FUNC():\n",
        "  from random import choice\n",
        "\n",
        "  print(\"Choose a paradigm to practice.\")\n",
        "  print(\"Type 0 to choose a random paradigm.\")\n",
        "  print(\"Available paradigms:\")\n",
        "  #Read all records\n",
        "  list_of_tuples = ReadRecords(\"BaseParadigms\",\"TABLE_PARADIGMS\")\n",
        "  print_table(list_of_tuples)\n",
        "\n",
        "  ids = []\n",
        "  for i in list_of_tuples:\n",
        "    ids.append(i[0])\n",
        "\n",
        "  user_choice = \"\"\n",
        "  while type(user_choice) != int:\n",
        "    try:\n",
        "      user_choice = int(input())\n",
        "      if user_choice not in ids and user_choice != 0:\n",
        "        user_choice = \"\"\n",
        "        int(\"I just hope that no ValueError occurs\")\n",
        "    except ValueError:\n",
        "      print(\"Only IDs available in the table or 0 are allowed\")\n",
        "  if user_choice == 0:\n",
        "    user_choice = choice(ids)\n",
        "    \n",
        "\n",
        "\n",
        "  continue_practice = True\n",
        "  level = 1\n",
        "\n",
        "\n",
        "  do_a_prectice_row(list_of_tuples[user_choice - 1][1],level)"
      ],
      "metadata": {
        "colab": {
          "base_uri": "https://localhost:8080/"
        },
        "id": "QtYi-NbikWfT",
        "outputId": "eed05ef0-c7bf-46d3-9ea6-385c13731990"
      },
      "execution_count": null,
      "outputs": [
        {
          "output_type": "stream",
          "name": "stdout",
          "text": [
            "Choose a paradigm to practice.\n",
            "Type 0 to choose a random paradigm.\n",
            "Available paradigms:\n",
            "1 | Directivo | 3 | 0 | \n",
            "2 | Coach     | 3 | 0 | \n",
            "3 | Gracioso  | 3 | 0 | \n",
            "3\n",
            "The level is 1.\n",
            "The practice row starts in\n",
            "4\n",
            "3\n",
            "2\n",
            "1\n",
            "sorete\n",
            "sorete\n",
            "pedo\n",
            "jajaja\n",
            "jajaja\n",
            "sorete\n",
            "✓\n",
            "sorete\n",
            "✓\n",
            "pedo\n",
            "✓\n",
            "jajaja\n",
            "✓\n",
            "jajaja\n",
            "✓\n",
            "True\n",
            "You are at 81% of the maximum\n"
          ]
        }
      ]
    }
  ]
}