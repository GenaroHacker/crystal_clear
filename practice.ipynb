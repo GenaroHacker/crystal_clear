{
  "nbformat": 4,
  "nbformat_minor": 0,
  "metadata": {
    "colab": {
      "provenance": [],
      "authorship_tag": "ABX9TyNoD4s83PYVA36GEaMc/R65",
      "include_colab_link": true
    },
    "kernelspec": {
      "name": "python3",
      "display_name": "Python 3"
    },
    "language_info": {
      "name": "python"
    }
  },
  "cells": [
    {
      "cell_type": "markdown",
      "metadata": {
        "id": "view-in-github",
        "colab_type": "text"
      },
      "source": [
        "<a href=\"https://colab.research.google.com/github/GenaroHacker/crystal_clear/blob/main/practice.ipynb\" target=\"_parent\"><img src=\"https://colab.research.google.com/assets/colab-badge.svg\" alt=\"Open In Colab\"/></a>"
      ]
    },
    {
      "cell_type": "code",
      "execution_count": 11,
      "metadata": {
        "colab": {
          "base_uri": "https://localhost:8080/"
        },
        "id": "4y6amuPFGbEv",
        "outputId": "e8b5afa8-f11d-4501-d7a6-898bebe1acc6"
      },
      "outputs": [
        {
          "output_type": "stream",
          "name": "stdout",
          "text": [
            "Table already exists!!!!\n",
            "\n",
            "Record inserted successfully!\n",
            "\n",
            "Records inserted successfully!\n",
            "\n",
            "The list of tuples with all the records is:\n",
            "[(1, 'BALL', 10, 'SPORT'), (2, 'GOLF STICK', 25, 'SPORT'), (4, 'T-SHIRT', 5, 'CLOTHES'), (5, 'BALL', 10, 'SPORT'), (6, 'GOLF STICK', 25, 'SPORT'), (7, 'GLASS', 20, 'CERAMIC'), (8, 'T-SHIRT', 5, 'CLOTHES')]\n",
            "\n",
            "The last record is:\n",
            "(8, 'T-SHIRT', 5, 'CLOTHES')\n",
            "\n",
            "The record with ID=3 has been updated successfully!\n",
            "\n",
            "The record with ID=4 has been removed successfully!\n",
            "\n"
          ]
        }
      ],
      "source": [
        "import sqlite3\n",
        "\n",
        "def CreateTable( DATABASE_NAME , TABLE_NAME , TABLE_STRUCTURE ):\n",
        "    myConnection=sqlite3.connect(DATABASE_NAME)\n",
        "    myCursor=myConnection.cursor()\n",
        "    myCursor.execute('''\n",
        "        CREATE TABLE ''' + TABLE_NAME + ''' ( ''' + TABLE_STRUCTURE + ''' )\n",
        "    ''')\n",
        "    myConnection.commit()\n",
        "    myConnection.close()\n",
        "\n",
        "def InsertRecord(DATABASE_NAME, RECORD):\n",
        "    myConnection=sqlite3.connect(DATABASE_NAME)\n",
        "    myCursor=myConnection.cursor()\n",
        "    myCursor.execute(RECORD)\n",
        "    myConnection.commit()\n",
        "    myConnection.close()\n",
        "\n",
        "def InsertSeveralRecords(DATABASE_NAME, MULTIPLE_RECORDS):\n",
        "    myConnection=sqlite3.connect(DATABASE_NAME)\n",
        "    myCursor=myConnection.cursor()\n",
        "    for i in MULTIPLE_RECORDS:\n",
        "        myCursor.execute(i)\n",
        "    myConnection.commit()\n",
        "    myConnection.close()\n",
        "\n",
        "def ReadRecords(DATABASE_NAME, TABLE_NAME):\n",
        "    myConnection=sqlite3.connect(DATABASE_NAME)\n",
        "    myCursor=myConnection.cursor()\n",
        "    myCursor.execute(\"SELECT * FROM \" + TABLE_NAME)\n",
        "    records=myCursor.fetchall()\n",
        "    myConnection.close()\n",
        "    return records\n",
        "\n",
        "def ReadLastRecord(DATABASE_NAME, TABLE_NAME):\n",
        "    myConnection=sqlite3.connect(DATABASE_NAME)\n",
        "    myCursor=myConnection.cursor()\n",
        "    myCursor.execute(\"SELECT * FROM \" + TABLE_NAME + \" ORDER BY ID DESC LIMIT 1\")\n",
        "    records=myCursor.fetchall()\n",
        "    myConnection.close()\n",
        "    return records[0]\n",
        "\n",
        "def UpdateRecord(DATABASE_NAME, RECORD):\n",
        "    myConnection=sqlite3.connect(DATABASE_NAME)\n",
        "    myCursor=myConnection.cursor()\n",
        "    myCursor.execute(RECORD)\n",
        "    myConnection.commit()\n",
        "    myConnection.close()\n",
        "\n",
        "def RemoveRecord(DATABASE_NAME, RECORD):\n",
        "    myConnection=sqlite3.connect(DATABASE_NAME)\n",
        "    myCursor=myConnection.cursor()\n",
        "    myCursor.execute(RECORD)\n",
        "    myConnection.commit()\n",
        "    myConnection.close()\n",
        "\n",
        "def RunCommand(DATABASE_NAME, COMMAND):\n",
        "    myConnection=sqlite3.connect(DATABASE_NAME)\n",
        "    myCursor=myConnection.cursor()\n",
        "    myCursor.execute(COMMAND)\n",
        "    myConnection.commit()\n",
        "    myConnection.close()\n",
        "\n",
        "\n",
        "\n",
        "if __name__ == \"__main__\":\n",
        "    #Create one Table\n",
        "    try:\n",
        "        columns = \"\"\"\n",
        "                ID INTEGER PRIMARY KEY AUTOINCREMENT,\n",
        "                ITEM_NAME VARCHAR(50),\n",
        "                PRICE INTEGER,\n",
        "                SECTION VARCHAR(20)\"\"\"\n",
        "        CreateTable(\"BaseProducts\",\"TableProducts\",columns)\n",
        "        print(\"Table created successfully!\\n\")\n",
        "    except sqlite3.OperationalError:\n",
        "        print(\"Table already exists!!!!\\n\")\n",
        "\n",
        "\n",
        "    #Insert one record\n",
        "    InsertRecord(\"BaseProducts\",\"INSERT INTO TableProducts VALUES (NULL,'BALL',10,'SPORT')\")\n",
        "    print(\"Record inserted successfully!\\n\")\n",
        "\n",
        "\n",
        "    #Insert several records\n",
        "    InsertSeveralRecords(\"BaseProducts\",[\n",
        "        \"INSERT INTO TableProducts VALUES (NULL,'GOLF STICK',25,'SPORT')\",\n",
        "        \"INSERT INTO TableProducts VALUES (NULL,'GLASS',20,'CERAMIC')\",\n",
        "        \"INSERT INTO TableProducts VALUES (NULL,'T-SHIRT',5,'CLOTHES')\"\n",
        "    ])\n",
        "    print(\"Records inserted successfully!\\n\")\n",
        "\n",
        "\n",
        "    #Read all records\n",
        "    list_of_tuples = ReadRecords(\"BaseProducts\",\"TableProducts\")\n",
        "    print(\"The list of tuples with all the records is:\")\n",
        "    print(list_of_tuples)\n",
        "\n",
        "\n",
        "    #Read last record\n",
        "    last_record = ReadLastRecord(\"BaseProducts\",\"TableProducts\")\n",
        "    print(\"\\nThe last record is:\")\n",
        "    print(last_record)\n",
        "\n",
        "\n",
        "    #Update record\n",
        "    UpdateRecord(\"BaseProducts\",\"UPDATE TableProducts SET ITEM_NAME='BALL NAME UPDATED' WHERE ID=3\")\n",
        "    print(\"\\nThe record with ID=3 has been updated successfully!\\n\")\n",
        "\n",
        "\n",
        "    #Remove record\n",
        "    RemoveRecord(\"BaseProducts\",\"DELETE FROM TableProducts WHERE ID=3\")\n",
        "    print(\"The record with ID=4 has been removed successfully!\\n\")"
      ]
    },
    {
      "cell_type": "code",
      "source": [
        "def print_table(list_of_tuples):\n",
        "    #Get the length of the longest string in each column\n",
        "    column_widths = []\n",
        "    for i in range(len(list_of_tuples[0])):\n",
        "        column_widths.append(max([len(str(row[i])) for row in list_of_tuples]))\n",
        "    #Print the table\n",
        "    for row in list_of_tuples:\n",
        "        for i in range(len(row)):\n",
        "            print(str(row[i]).ljust(column_widths[i]), end=' | ')\n",
        "        print()"
      ],
      "metadata": {
        "id": "hwvEtRuok_dO"
      },
      "execution_count": 12,
      "outputs": []
    },
    {
      "cell_type": "code",
      "source": [
        "def do_a_prectice_row(paradigm,level):\n",
        "  print(paradigm)\n",
        "  print(level)"
      ],
      "metadata": {
        "id": "p1Fr-iUWnEgm"
      },
      "execution_count": 13,
      "outputs": []
    },
    {
      "cell_type": "code",
      "source": [
        "from random import choice\n",
        "\n",
        "print(\"Choose a paradigm to practice.\")\n",
        "print(\"Type 0 to choose a random paradigm.\")\n",
        "print(\"Available paradigms:\")\n",
        "#Read all records\n",
        "list_of_tuples = ReadRecords(\"BaseParadigms\",\"TABLE_PARADIGMS\")\n",
        "print_table(list_of_tuples)\n",
        "\n",
        "ids = []\n",
        "for i in list_of_tuples:\n",
        "  ids.append(i[0])\n",
        "\n",
        "user_choice = \"\"\n",
        "while type(user_choice) != int:\n",
        "  try:\n",
        "    user_choice = int(input())\n",
        "    if user_choice not in ids and user_choice != 0:\n",
        "      user_choice = \"\"\n",
        "      int(\"I just hope that no ValueError occurs\")\n",
        "  except ValueError:\n",
        "    print(\"Only IDs available in the table or 0 are allowed\")\n",
        "if user_choice == 0:\n",
        "  user_choice = choice(ids)\n",
        "  \n",
        "\n",
        "\n",
        "continue_practice = True\n",
        "level = 1\n",
        "\n",
        "\n",
        "do_a_prectice_row(list_of_tuples[user_choice - 1][1],level)"
      ],
      "metadata": {
        "colab": {
          "base_uri": "https://localhost:8080/"
        },
        "id": "QtYi-NbikWfT",
        "outputId": "473f0fae-68f0-4a66-d6e6-face29126b2b"
      },
      "execution_count": 30,
      "outputs": [
        {
          "output_type": "stream",
          "name": "stdout",
          "text": [
            "Choose a paradigm to practice.\n",
            "Type 0 to choose a random paradigm.\n",
            "Available paradigms:\n",
            "1 | Directivo | 3 | 0 | \n",
            "2 | Coach     | 3 | 0 | \n",
            "3 | Gracioso  | 3 | 0 | \n",
            "l\n",
            "Only IDs available in the table or 0 are allowed\n",
            "0\n",
            "Coach\n",
            "1\n"
          ]
        }
      ]
    }
  ]
}