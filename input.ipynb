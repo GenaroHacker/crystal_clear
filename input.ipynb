{
  "nbformat": 4,
  "nbformat_minor": 0,
  "metadata": {
    "colab": {
      "provenance": [],
      "authorship_tag": "ABX9TyM1rB/EvV2WaDFUTUoPcGVi",
      "include_colab_link": true
    },
    "kernelspec": {
      "name": "python3",
      "display_name": "Python 3"
    },
    "language_info": {
      "name": "python"
    }
  },
  "cells": [
    {
      "cell_type": "markdown",
      "metadata": {
        "id": "view-in-github",
        "colab_type": "text"
      },
      "source": [
        "<a href=\"https://colab.research.google.com/github/GenaroHacker/crystal_clear/blob/main/input.ipynb\" target=\"_parent\"><img src=\"https://colab.research.google.com/assets/colab-badge.svg\" alt=\"Open In Colab\"/></a>"
      ]
    },
    {
      "cell_type": "code",
      "source": [
        "!git clone https://github.com/GenaroHacker/crystal_clear.git\n",
        "%run crystal_clear/sql.ipynb"
      ],
      "metadata": {
        "id": "VqrMwOD74xWo",
        "outputId": "138a09b0-86c7-48f3-d588-530c7772480b",
        "colab": {
          "base_uri": "https://localhost:8080/"
        }
      },
      "execution_count": 8,
      "outputs": [
        {
          "output_type": "stream",
          "name": "stdout",
          "text": [
            "fatal: destination path 'crystal_clear' already exists and is not an empty directory.\n"
          ]
        }
      ]
    },
    {
      "cell_type": "code",
      "source": [
        "#@title Functions\n",
        "def start_insert_mode(PARADIGM_ID):\n",
        "  while True:\n",
        "    print(\"Type a phrase to incorporate into the paradigm [\" + TableNamesToDict(\"BaseParadigms\")[PARADIGM_ID] + '] or type \"End\" to exit.')\n",
        "    print(\"==========>\")\n",
        "    phrase = input()\n",
        "    if phrase.lower() == \"end\":\n",
        "      \"Exiting...\"\n",
        "      INPUT_MODULE_MAIN_FUNC()\n",
        "      break\n",
        "    else:\n",
        "      InsertRecord(\"BaseParadigms\",\"INSERT INTO \" + TableNamesToDict(\"BaseParadigms\")[PARADIGM_ID] + \" VALUES (NULL,'\" + phrase + \"')\")\n",
        "\n",
        "def create_new_paradigm(name):\n",
        "  #Create one Table\n",
        "  try:\n",
        "      columns = \"\"\"\n",
        "              ID INTEGER PRIMARY KEY AUTOINCREMENT,\n",
        "              PHRASE VARCHAR(140)\"\"\"\n",
        "      table_name = name.capitalize()\n",
        "      CreateTable(\"BaseParadigms\",table_name,columns)\n",
        "      print(\"Table created successfully!\\n\")\n",
        "  except sqlite3.OperationalError:\n",
        "      print(\"Table already exists!!!!\\n\")"
      ],
      "metadata": {
        "id": "lU0mCrcgO9IZ"
      },
      "execution_count": 9,
      "outputs": []
    },
    {
      "cell_type": "code",
      "source": [
        "#@title Main execution\n",
        "def INPUT_MODULE_MAIN_FUNC():\n",
        "  update_table_paradigms()\n",
        "  \n",
        "  print()\n",
        "  print(\"Select the ID of the paradigm you want to add phrases to.\")\n",
        "  print(\"Type 0 to add a new paradigm.\")\n",
        "  print('Type \"End\" to exit.')\n",
        "  print()\n",
        "  print(\"Available paradigms:\")\n",
        "  list_of_paradigms = ReadRecords(\"BaseParadigms\",\"TABLE_PARADIGMS\")\n",
        "  print_table(list_of_paradigms)\n",
        "  print()\n",
        "  print(\"==========>\")\n",
        "  selected_paradigm_id = input(\"ID: \")\n",
        "\n",
        "  if selected_paradigm_id.lower() == \"end\":\n",
        "    return print(\"Exiting the input mode\")\n",
        "\n",
        "  try:\n",
        "    selected_paradigm_id = int(selected_paradigm_id)\n",
        "  except ValueError:\n",
        "    print()\n",
        "    print(\"Only numbers are allowed.\")\n",
        "    INPUT_MODULE_MAIN_FUNC()\n",
        "\n",
        "  \n",
        "  if selected_paradigm_id == 0:\n",
        "    print()\n",
        "    print(\"Write the name for the new paradigm.\")\n",
        "    print(\"==========>\")\n",
        "    create_new_paradigm(input())\n",
        "    update_table_paradigms()\n",
        "    INPUT_MODULE_MAIN_FUNC()\n",
        "\n",
        "  elif selected_paradigm_id in ReadAllTableNames(\"BaseParadigms\").keys():\n",
        "    start_insert_mode(selected_paradigm_id)\n",
        "    update_table_paradigms()\n",
        "\n",
        "  else:\n",
        "    print(\"Invalid paradigm.\")\n",
        "    INPUT_MODULE_MAIN_FUNC()\n",
        "\n",
        "INPUT_MODULE_MAIN_FUNC()"
      ],
      "metadata": {
        "colab": {
          "base_uri": "https://localhost:8080/",
          "height": 1000
        },
        "id": "iKFu03JhOe5G",
        "outputId": "3efbf88a-364a-4136-d365-f8274eda77bf"
      },
      "execution_count": 10,
      "outputs": [
        {
          "output_type": "stream",
          "name": "stdout",
          "text": [
            "Table already exists!!!!\n",
            "\n",
            "\n",
            "Select the ID of the paradigm you want to add phrases to.\n",
            "Type 0 to add a new paradigm.\n",
            "Type \"End\" to exit.\n",
            "\n",
            "Available paradigms:\n",
            "1 | Directivo | 3 | 0 | \n",
            "2 | Coach     | 3 | 0 | \n",
            "3 | Gracioso  | 3 | 0 | \n",
            "4 | Motoquero | 0 | 0 | \n",
            "\n",
            "==========>\n",
            "ID: 4\n",
            "Type a phrase to incorporate into the paradigm [Motoquero] or type \"End\" to exit.\n",
            "==========>\n",
            "brr\n",
            "Type a phrase to incorporate into the paradigm [Motoquero] or type \"End\" to exit.\n",
            "==========>\n",
            "corte\n",
            "Type a phrase to incorporate into the paradigm [Motoquero] or type \"End\" to exit.\n",
            "==========>\n",
            "end\n",
            "Table already exists!!!!\n",
            "\n",
            "\n",
            "Select the ID of the paradigm you want to add phrases to.\n",
            "Type 0 to add a new paradigm.\n",
            "Type \"End\" to exit.\n",
            "\n",
            "Available paradigms:\n",
            "1 | Directivo | 3 | 0 | \n",
            "2 | Coach     | 3 | 0 | \n",
            "3 | Gracioso  | 3 | 0 | \n",
            "4 | Motoquero | 0 | 0 | \n",
            "\n",
            "==========>\n"
          ]
        },
        {
          "output_type": "error",
          "ename": "KeyboardInterrupt",
          "evalue": "ignored",
          "traceback": [
            "\u001b[0;31m---------------------------------------------------------------------------\u001b[0m",
            "\u001b[0;31mKeyboardInterrupt\u001b[0m                         Traceback (most recent call last)",
            "\u001b[0;32m<ipython-input-10-d9b52324df4f>\u001b[0m in \u001b[0;36m<module>\u001b[0;34m\u001b[0m\n\u001b[1;32m     42\u001b[0m     \u001b[0mINPUT_MODULE_MAIN_FUNC\u001b[0m\u001b[0;34m(\u001b[0m\u001b[0;34m)\u001b[0m\u001b[0;34m\u001b[0m\u001b[0;34m\u001b[0m\u001b[0m\n\u001b[1;32m     43\u001b[0m \u001b[0;34m\u001b[0m\u001b[0m\n\u001b[0;32m---> 44\u001b[0;31m \u001b[0mINPUT_MODULE_MAIN_FUNC\u001b[0m\u001b[0;34m(\u001b[0m\u001b[0;34m)\u001b[0m\u001b[0;34m\u001b[0m\u001b[0;34m\u001b[0m\u001b[0m\n\u001b[0m",
            "\u001b[0;32m<ipython-input-10-d9b52324df4f>\u001b[0m in \u001b[0;36mINPUT_MODULE_MAIN_FUNC\u001b[0;34m()\u001b[0m\n\u001b[1;32m     35\u001b[0m \u001b[0;34m\u001b[0m\u001b[0m\n\u001b[1;32m     36\u001b[0m   \u001b[0;32melif\u001b[0m \u001b[0mselected_paradigm_id\u001b[0m \u001b[0;32min\u001b[0m \u001b[0mReadAllTableNames\u001b[0m\u001b[0;34m(\u001b[0m\u001b[0;34m\"BaseParadigms\"\u001b[0m\u001b[0;34m)\u001b[0m\u001b[0;34m.\u001b[0m\u001b[0mkeys\u001b[0m\u001b[0;34m(\u001b[0m\u001b[0;34m)\u001b[0m\u001b[0;34m:\u001b[0m\u001b[0;34m\u001b[0m\u001b[0;34m\u001b[0m\u001b[0m\n\u001b[0;32m---> 37\u001b[0;31m     \u001b[0mstart_insert_mode\u001b[0m\u001b[0;34m(\u001b[0m\u001b[0mselected_paradigm_id\u001b[0m\u001b[0;34m)\u001b[0m\u001b[0;34m\u001b[0m\u001b[0;34m\u001b[0m\u001b[0m\n\u001b[0m\u001b[1;32m     38\u001b[0m     \u001b[0mupdate_table_paradigms\u001b[0m\u001b[0;34m(\u001b[0m\u001b[0;34m)\u001b[0m\u001b[0;34m\u001b[0m\u001b[0;34m\u001b[0m\u001b[0m\n\u001b[1;32m     39\u001b[0m \u001b[0;34m\u001b[0m\u001b[0m\n",
            "\u001b[0;32m<ipython-input-9-eceff8ffd605>\u001b[0m in \u001b[0;36mstart_insert_mode\u001b[0;34m(PARADIGM_ID)\u001b[0m\n\u001b[1;32m      7\u001b[0m     \u001b[0;32mif\u001b[0m \u001b[0mphrase\u001b[0m\u001b[0;34m.\u001b[0m\u001b[0mlower\u001b[0m\u001b[0;34m(\u001b[0m\u001b[0;34m)\u001b[0m \u001b[0;34m==\u001b[0m \u001b[0;34m\"end\"\u001b[0m\u001b[0;34m:\u001b[0m\u001b[0;34m\u001b[0m\u001b[0;34m\u001b[0m\u001b[0m\n\u001b[1;32m      8\u001b[0m       \u001b[0;34m\"Exiting...\"\u001b[0m\u001b[0;34m\u001b[0m\u001b[0;34m\u001b[0m\u001b[0m\n\u001b[0;32m----> 9\u001b[0;31m       \u001b[0mINPUT_MODULE_MAIN_FUNC\u001b[0m\u001b[0;34m(\u001b[0m\u001b[0;34m)\u001b[0m\u001b[0;34m\u001b[0m\u001b[0;34m\u001b[0m\u001b[0m\n\u001b[0m\u001b[1;32m     10\u001b[0m       \u001b[0;32mbreak\u001b[0m\u001b[0;34m\u001b[0m\u001b[0;34m\u001b[0m\u001b[0m\n\u001b[1;32m     11\u001b[0m     \u001b[0;32melse\u001b[0m\u001b[0;34m:\u001b[0m\u001b[0;34m\u001b[0m\u001b[0;34m\u001b[0m\u001b[0m\n",
            "\u001b[0;32m<ipython-input-10-d9b52324df4f>\u001b[0m in \u001b[0;36mINPUT_MODULE_MAIN_FUNC\u001b[0;34m()\u001b[0m\n\u001b[1;32m     13\u001b[0m   \u001b[0mprint\u001b[0m\u001b[0;34m(\u001b[0m\u001b[0;34m)\u001b[0m\u001b[0;34m\u001b[0m\u001b[0;34m\u001b[0m\u001b[0m\n\u001b[1;32m     14\u001b[0m   \u001b[0mprint\u001b[0m\u001b[0;34m(\u001b[0m\u001b[0;34m\"==========>\"\u001b[0m\u001b[0;34m)\u001b[0m\u001b[0;34m\u001b[0m\u001b[0;34m\u001b[0m\u001b[0m\n\u001b[0;32m---> 15\u001b[0;31m   \u001b[0mselected_paradigm_id\u001b[0m \u001b[0;34m=\u001b[0m \u001b[0minput\u001b[0m\u001b[0;34m(\u001b[0m\u001b[0;34m\"ID: \"\u001b[0m\u001b[0;34m)\u001b[0m\u001b[0;34m\u001b[0m\u001b[0;34m\u001b[0m\u001b[0m\n\u001b[0m\u001b[1;32m     16\u001b[0m \u001b[0;34m\u001b[0m\u001b[0m\n\u001b[1;32m     17\u001b[0m   \u001b[0;32mif\u001b[0m \u001b[0mselected_paradigm_id\u001b[0m\u001b[0;34m.\u001b[0m\u001b[0mlower\u001b[0m\u001b[0;34m(\u001b[0m\u001b[0;34m)\u001b[0m \u001b[0;34m==\u001b[0m \u001b[0;34m\"end\"\u001b[0m\u001b[0;34m:\u001b[0m\u001b[0;34m\u001b[0m\u001b[0;34m\u001b[0m\u001b[0m\n",
            "\u001b[0;32m/usr/local/lib/python3.7/dist-packages/ipykernel/kernelbase.py\u001b[0m in \u001b[0;36mraw_input\u001b[0;34m(self, prompt)\u001b[0m\n\u001b[1;32m    861\u001b[0m             \u001b[0mself\u001b[0m\u001b[0;34m.\u001b[0m\u001b[0m_parent_ident\u001b[0m\u001b[0;34m,\u001b[0m\u001b[0;34m\u001b[0m\u001b[0;34m\u001b[0m\u001b[0m\n\u001b[1;32m    862\u001b[0m             \u001b[0mself\u001b[0m\u001b[0;34m.\u001b[0m\u001b[0m_parent_header\u001b[0m\u001b[0;34m,\u001b[0m\u001b[0;34m\u001b[0m\u001b[0;34m\u001b[0m\u001b[0m\n\u001b[0;32m--> 863\u001b[0;31m             \u001b[0mpassword\u001b[0m\u001b[0;34m=\u001b[0m\u001b[0;32mFalse\u001b[0m\u001b[0;34m,\u001b[0m\u001b[0;34m\u001b[0m\u001b[0;34m\u001b[0m\u001b[0m\n\u001b[0m\u001b[1;32m    864\u001b[0m         )\n\u001b[1;32m    865\u001b[0m \u001b[0;34m\u001b[0m\u001b[0m\n",
            "\u001b[0;32m/usr/local/lib/python3.7/dist-packages/ipykernel/kernelbase.py\u001b[0m in \u001b[0;36m_input_request\u001b[0;34m(self, prompt, ident, parent, password)\u001b[0m\n\u001b[1;32m    902\u001b[0m             \u001b[0;32mexcept\u001b[0m \u001b[0mKeyboardInterrupt\u001b[0m\u001b[0;34m:\u001b[0m\u001b[0;34m\u001b[0m\u001b[0;34m\u001b[0m\u001b[0m\n\u001b[1;32m    903\u001b[0m                 \u001b[0;31m# re-raise KeyboardInterrupt, to truncate traceback\u001b[0m\u001b[0;34m\u001b[0m\u001b[0;34m\u001b[0m\u001b[0;34m\u001b[0m\u001b[0m\n\u001b[0;32m--> 904\u001b[0;31m                 \u001b[0;32mraise\u001b[0m \u001b[0mKeyboardInterrupt\u001b[0m\u001b[0;34m(\u001b[0m\u001b[0;34m\"Interrupted by user\"\u001b[0m\u001b[0;34m)\u001b[0m \u001b[0;32mfrom\u001b[0m \u001b[0;32mNone\u001b[0m\u001b[0;34m\u001b[0m\u001b[0;34m\u001b[0m\u001b[0m\n\u001b[0m\u001b[1;32m    905\u001b[0m             \u001b[0;32mexcept\u001b[0m \u001b[0mException\u001b[0m \u001b[0;32mas\u001b[0m \u001b[0me\u001b[0m\u001b[0;34m:\u001b[0m\u001b[0;34m\u001b[0m\u001b[0;34m\u001b[0m\u001b[0m\n\u001b[1;32m    906\u001b[0m                 \u001b[0mself\u001b[0m\u001b[0;34m.\u001b[0m\u001b[0mlog\u001b[0m\u001b[0;34m.\u001b[0m\u001b[0mwarning\u001b[0m\u001b[0;34m(\u001b[0m\u001b[0;34m\"Invalid Message:\"\u001b[0m\u001b[0;34m,\u001b[0m \u001b[0mexc_info\u001b[0m\u001b[0;34m=\u001b[0m\u001b[0;32mTrue\u001b[0m\u001b[0;34m)\u001b[0m\u001b[0;34m\u001b[0m\u001b[0;34m\u001b[0m\u001b[0m\n",
            "\u001b[0;31mKeyboardInterrupt\u001b[0m: Interrupted by user"
          ]
        }
      ]
    }
  ]
}