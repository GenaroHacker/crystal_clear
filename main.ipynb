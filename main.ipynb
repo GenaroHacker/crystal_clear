{
  "nbformat": 4,
  "nbformat_minor": 0,
  "metadata": {
    "colab": {
      "provenance": [],
      "authorship_tag": "ABX9TyM31adZ3MAzf9qij6AhAxFX",
      "include_colab_link": true
    },
    "kernelspec": {
      "name": "python3",
      "display_name": "Python 3"
    },
    "language_info": {
      "name": "python"
    }
  },
  "cells": [
    {
      "cell_type": "markdown",
      "metadata": {
        "id": "view-in-github",
        "colab_type": "text"
      },
      "source": [
        "<a href=\"https://colab.research.google.com/github/GenaroHacker/crystal_clear/blob/main/main.ipynb\" target=\"_parent\"><img src=\"https://colab.research.google.com/assets/colab-badge.svg\" alt=\"Open In Colab\"/></a>"
      ]
    },
    {
      "cell_type": "code",
      "source": [
        "!git clone https://github.com/GenaroHacker/crystal_clear.git\n",
        "%run crystal_clear/sql.ipynb"
      ],
      "metadata": {
        "id": "5ZecG2Uz3pZX",
        "outputId": "0e473361-e51f-419c-cd44-c988e0ac86bf",
        "colab": {
          "base_uri": "https://localhost:8080/"
        }
      },
      "execution_count": 1,
      "outputs": [
        {
          "output_type": "stream",
          "name": "stdout",
          "text": [
            "Cloning into 'crystal_clear'...\n",
            "remote: Enumerating objects: 67, done.\u001b[K\n",
            "remote: Counting objects: 100% (67/67), done.\u001b[K\n",
            "remote: Compressing objects: 100% (64/64), done.\u001b[K\n",
            "remote: Total 67 (delta 33), reused 11 (delta 1), pack-reused 0\u001b[K\n",
            "Unpacking objects: 100% (67/67), done.\n",
            "Table created successfully!\n",
            "\n",
            "Record inserted successfully!\n",
            "\n",
            "Records inserted successfully!\n",
            "\n",
            "The list of tuples with all the records is:\n",
            "[(1, 'BALL', 10, 'SPORT'), (2, 'GOLF STICK', 25, 'SPORT'), (3, 'GLASS', 20, 'CERAMIC'), (4, 'T-SHIRT', 5, 'CLOTHES')]\n",
            "\n",
            "The last record is:\n",
            "(4, 'T-SHIRT', 5, 'CLOTHES')\n",
            "\n",
            "The record with ID=3 has been updated successfully!\n",
            "\n",
            "The record with ID=4 has been removed successfully!\n",
            "\n",
            "\n",
            "The table has been deleted successfully!\n",
            "\n",
            "The list of table names is:\n",
            "{1: 'TableProducts'}\n",
            "\n",
            "The amount of entries in the table is:\n",
            "3\n"
          ]
        }
      ]
    }
  ]
}