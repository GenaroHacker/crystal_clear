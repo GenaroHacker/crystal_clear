{
  "nbformat": 4,
  "nbformat_minor": 0,
  "metadata": {
    "colab": {
      "provenance": [],
      "authorship_tag": "ABX9TyN3zveJ1FW0rEldXoZeN0v5",
      "include_colab_link": true
    },
    "kernelspec": {
      "name": "python3",
      "display_name": "Python 3"
    },
    "language_info": {
      "name": "python"
    }
  },
  "cells": [
    {
      "cell_type": "markdown",
      "metadata": {
        "id": "view-in-github",
        "colab_type": "text"
      },
      "source": [
        "<a href=\"https://colab.research.google.com/github/GenaroHacker/crystal_clear/blob/main/filter.ipynb\" target=\"_parent\"><img src=\"https://colab.research.google.com/assets/colab-badge.svg\" alt=\"Open In Colab\"/></a>"
      ]
    },
    {
      "cell_type": "code",
      "source": [
        "!git clone https://github.com/GenaroHacker/crystal_clear.git\n",
        "%run crystal_clear/sql.ipynb"
      ],
      "metadata": {
        "id": "ftS-PCg64mkm"
      },
      "execution_count": null,
      "outputs": []
    },
    {
      "cell_type": "code",
      "source": [
        "#@title Finctions\n",
        "\n",
        "def delete_paradigm(paradigm_id):\n",
        "  list_of_tuples = ReadRecords(\"BaseParadigms\",\"TABLE_PARADIGMS\")\n",
        "  tablename_todelete = \"\"\n",
        "  for paradigm in list_of_tuples:\n",
        "    if paradigm[0] == paradigm_id:\n",
        "      tablename_todelete = paradigm[1]\n",
        "  RunCommand(\"BaseParadigms\",\"DROP TABLE \" + tablename_todelete)\n",
        "\n",
        "def sort_paradigm(paradigm_id):\n",
        "  list_of_tuples = ReadRecords(\"BaseParadigms\",\"TABLE_PARADIGMS\")\n",
        "  tablename_tosort = \"\"\n",
        "  for paradigm in list_of_tuples:\n",
        "    if paradigm[0] == paradigm_id:\n",
        "      tablename_tosort = paradigm[1]\n",
        "  #Read all records\n",
        "  list_of_tuples = ReadRecords(\"BaseParadigms\",tablename_tosort)\n",
        "  prdgms_to_sort = []\n",
        "  for record in list_of_tuples:\n",
        "    prdgms_to_sort.append(record[1])\n",
        "  def manual_sort(items_to_sort):\n",
        "    import functools\n",
        "    def ask_user_cmp(item1, item2):\n",
        "        while True:\n",
        "            print(f\"[{item1}](1) or [{item2}](2) ?\")\n",
        "            cmp = input(\"--> \")\n",
        "            if cmp == \"1\":\n",
        "                return 1\n",
        "            if cmp == \"2\":\n",
        "                return -1\n",
        "            print(\"1 or 2, please!\")\n",
        "    ask_user_key = functools.cmp_to_key(ask_user_cmp)\n",
        "    items_to_sort.sort(key=ask_user_key, reverse=True)\n",
        "    return items_to_sort\n",
        "  prdgms_sorted = manual_sort(prdgms_to_sort)\n",
        "  RunCommand(\"BaseParadigms\",\"DELETE FROM \" + tablename_tosort)\n",
        "  RunCommand(\"BaseParadigms\",\"DELETE FROM sqlite_sequence WHERE name='\" + tablename_tosort + \"'\")\n",
        "  for phrase in prdgms_sorted:\n",
        "    InsertRecord(\"BaseParadigms\",\"INSERT INTO \" + tablename_tosort + \" VALUES (NULL,'\" + phrase + \"')\")\n",
        "\n",
        "def update_phrase(paradigm_id, phrase_id, new_phrase):\n",
        "  list_of_tuples = ReadRecords(\"BaseParadigms\",\"TABLE_PARADIGMS\")\n",
        "  tablename = \"\"\n",
        "  for paradigm in list_of_tuples:\n",
        "    if paradigm[0] == paradigm_id:\n",
        "      tablename = paradigm[1]\n",
        "  UpdateRecord(\"BaseParadigms\",\"UPDATE \" + tablename + \" SET PHRASE='\" + new_phrase + \"' WHERE ID=\" + str(phrase_id))\n",
        "\n",
        "def delete_phrase(paradigm_id,phrase_id):\n",
        "  list_of_tuples = ReadRecords(\"BaseParadigms\",\"TABLE_PARADIGMS\")\n",
        "  tablename = \"\"\n",
        "  for paradigm in list_of_tuples:\n",
        "    if paradigm[0] == paradigm_id:\n",
        "      tablename = paradigm[1]\n",
        "  last_record_id = ReadLastRecord(\"BaseParadigms\",tablename)[0]\n",
        "  RemoveRecord(\"BaseParadigms\",\"DELETE FROM \" + tablename + \" WHERE ID=\" + str(phrase_id))\n",
        "  for id in range(phrase_id + 1,last_record_id + 1):\n",
        "    UpdateRecord(\"BaseParadigms\",\"UPDATE \" + tablename + \" SET ID='\" + str(id-1) + \"' WHERE ID=\" + str(id))\n"
      ],
      "metadata": {
        "id": "irW4Ffr8ydQb"
      },
      "execution_count": null,
      "outputs": []
    },
    {
      "cell_type": "code",
      "source": [
        "#delete_paradigm(2)\n",
        "#sort_paradigm(3)\n",
        "#update_phrase(3,1,\"lol\")\n",
        "#delete_phrase(1,1)"
      ],
      "metadata": {
        "id": "LLlt6LROr8KE"
      },
      "execution_count": null,
      "outputs": []
    },
    {
      "cell_type": "code",
      "source": [
        "def print_table(list_of_tuples):\n",
        "    #Get the length of the longest string in each column\n",
        "    column_widths = []\n",
        "    for i in range(len(list_of_tuples[0])):\n",
        "        column_widths.append(max([len(str(row[i])) for row in list_of_tuples]))\n",
        "    #Print the table\n",
        "    for row in list_of_tuples:\n",
        "        for i in range(len(row)):\n",
        "            print(str(row[i]).ljust(column_widths[i]), end=' | ')\n",
        "        print()"
      ],
      "metadata": {
        "id": "zc0lXsDaBGL2"
      },
      "execution_count": null,
      "outputs": []
    },
    {
      "cell_type": "code",
      "source": [
        "#@title Execution\n",
        "\n",
        "\n",
        "print(\"Select the paradigm you want to filter or type 0 to select a random paradigm\")\n",
        "list_of_paradigms = ReadRecords(\"BaseParadigms\",\"TABLE_PARADIGMS\")\n",
        "print_table(list_of_paradigms)\n",
        "\n",
        "ids = []\n",
        "for i in list_of_paradigms:\n",
        "  ids.append(i[0])\n",
        "\n",
        "\n",
        "user_choice = \"\"\n",
        "while type(user_choice) != int:\n",
        "  try:\n",
        "    user_choice = int(input())\n",
        "    if user_choice not in ids and user_choice != 0:\n",
        "      user_choice = \"\"\n",
        "      int(\"I just hope that no ValueError occurs\")\n",
        "  except ValueError:\n",
        "    print(\"Only IDs available in the table or 0 are allowed\")\n",
        "if user_choice == 0:\n",
        "  from random import choice\n",
        "  user_choice = choice(ids)\n",
        "  \n",
        "\n",
        "tablename = list_of_paradigms[user_choice-1][1]\n",
        "\n",
        "list_of_phrases = ReadRecords(\"BaseParadigms\",tablename)\n",
        "print_table(list_of_phrases)"
      ],
      "metadata": {
        "id": "ozea5kr_zWhu",
        "colab": {
          "base_uri": "https://localhost:8080/"
        },
        "outputId": "b8694e0d-8a36-45eb-fcb2-73d59e6c92c6"
      },
      "execution_count": null,
      "outputs": [
        {
          "output_type": "stream",
          "name": "stdout",
          "text": [
            "Select the paradigm you want to filter or type 0 to select a random paradigm\n",
            "1 | Directivo | 3 | 0 | \n",
            "2 | Coach     | 3 | 0 | \n",
            "3 | Gracioso  | 3 | 0 | \n",
            "0\n",
            "1\n",
            "1 | A correr          | \n",
            "2 | Actitud por favor | \n"
          ]
        }
      ]
    }
  ]
}