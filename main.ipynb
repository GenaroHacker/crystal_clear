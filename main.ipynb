{
  "nbformat": 4,
  "nbformat_minor": 0,
  "metadata": {
    "colab": {
      "provenance": [],
      "authorship_tag": "ABX9TyNhd6w0Nojad4XR88cu5ia+",
      "include_colab_link": true
    },
    "kernelspec": {
      "name": "python3",
      "display_name": "Python 3"
    },
    "language_info": {
      "name": "python"
    }
  },
  "cells": [
    {
      "cell_type": "markdown",
      "metadata": {
        "id": "view-in-github",
        "colab_type": "text"
      },
      "source": [
        "<a href=\"https://colab.research.google.com/github/GenaroHacker/crystal_clear/blob/main/main.ipynb\" target=\"_parent\"><img src=\"https://colab.research.google.com/assets/colab-badge.svg\" alt=\"Open In Colab\"/></a>"
      ]
    },
    {
      "cell_type": "code",
      "source": [
        "!git clone https://github.com/GenaroHacker/crystal_clear.git\n",
        "%run crystal_clear/sql.ipynb\n",
        "%run crystal_clear/input.ipynb\n",
        "%run crystal_clear/filter.ipynb\n",
        "%run crystal_clear/practice.ipynb"
      ],
      "metadata": {
        "id": "5ZecG2Uz3pZX"
      },
      "execution_count": null,
      "outputs": []
    },
    {
      "cell_type": "code",
      "source": [
        "PRACTICE_MODULE_MAIN_FUNC()"
      ],
      "metadata": {
        "id": "AnTmp9pwjsDv"
      },
      "execution_count": null,
      "outputs": []
    },
    {
      "cell_type": "code",
      "source": [
        "INPUT_MODULE_MAIN_FUNC()"
      ],
      "metadata": {
        "id": "fb7DahbQjnm7"
      },
      "execution_count": null,
      "outputs": []
    },
    {
      "cell_type": "code",
      "source": [
        "FILTER_MODULE_MAIN_FUNC()"
      ],
      "metadata": {
        "id": "Wf78bt9Bjmo8"
      },
      "execution_count": null,
      "outputs": []
    }
  ]
}